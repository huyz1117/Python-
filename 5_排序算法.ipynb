{
 "cells": [
  {
   "cell_type": "markdown",
   "metadata": {},
   "source": [
    "# 排序算法"
   ]
  },
  {
   "cell_type": "markdown",
   "metadata": {},
   "source": [
    "- 排序是计算机最常见的操作之一\n",
    "- 排序就是将一组杂乱无章的数据按一定规律排列起来（递增或递减）\n",
    "- 排序的对象可以是数字型，也可以是字符型，按其对应的`ASCII`码的顺序排列"
   ]
  },
  {
   "cell_type": "markdown",
   "metadata": {},
   "source": [
    "## 5.2 选择排序"
   ]
  },
  {
   "cell_type": "markdown",
   "metadata": {},
   "source": [
    "- 选择排序（升序）：\n",
    " 每次在若干无序的数据中查找最小的数，放在无序数据的首位。\n",
    "    - 从$N$个元素的列表中找最小值及其下标，与第一个元素交换\n",
    "    - 从第二个元素开始的$N-1$个元素中找最小值及其下标，与第二个元素交换\n",
    "    - 以此类推，$N-1$轮后即为排序好的数据"
   ]
  },
  {
   "cell_type": "markdown",
   "metadata": {},
   "source": [
    "选择排序算法实现（升序）："
   ]
  },
  {
   "cell_type": "code",
   "execution_count": 1,
   "metadata": {},
   "outputs": [
    {
     "name": "stdout",
     "output_type": "stream",
     "text": [
      "[13, 27, 38, 49, 49, 65, 76, 97]\n"
     ]
    }
   ],
   "source": [
    "a = [49, 38, 65, 97, 76, 13, 27, 49]\n",
    "\n",
    "for i in range(len(a) - 1):          # 控制轮次，只进行n-1次\n",
    "    m = i                            # 标记i的位置\n",
    "    for j in range(i+1, len(a)):     # 找最小值，从i+1开始\n",
    "        if a[j] < a[m]:\n",
    "            m = j                    # 用m标记最小值的下标\n",
    "    # m和i交换，借助第三个变量\n",
    "    temp = a[i]\n",
    "    a[i] = a[m]\n",
    "    a[m] = temp\n",
    "\n",
    "print(a)"
   ]
  },
  {
   "cell_type": "markdown",
   "metadata": {},
   "source": [
    "使用Python提供的特殊语法进行两个数交换：a, b = b, a"
   ]
  },
  {
   "cell_type": "code",
   "execution_count": 2,
   "metadata": {},
   "outputs": [
    {
     "name": "stdout",
     "output_type": "stream",
     "text": [
      "[13, 27, 38, 49, 49, 65, 76, 97]\n"
     ]
    }
   ],
   "source": [
    "a = [49, 38, 65, 97, 76, 13, 27, 49]\n",
    "\n",
    "for i in range(len(a) - 1):\n",
    "    m = i\n",
    "    for j in range(i+1, len(a)):\n",
    "        if a[j] < a[m]:\n",
    "            m = j\n",
    "    a[i], a[m] = a[m], a[i]\n",
    "    \n",
    "print(a)"
   ]
  },
  {
   "cell_type": "markdown",
   "metadata": {},
   "source": [
    "选择排序算法分析：\n",
    "- 选择排序共需比较$N-1$轮，总共的比较次数为：$(N-1)+(N-2)+...+2+1=N(N-1)/2$\n",
    "- 选择排序执行的交换次数为$N-1$"
   ]
  },
  {
   "cell_type": "markdown",
   "metadata": {},
   "source": [
    "## 5.2 冒泡排序"
   ]
  },
  {
   "cell_type": "markdown",
   "metadata": {},
   "source": [
    "冒泡排序（升序）：\n",
    "- 第一轮比较：从第一个元素开始，按顺序对列表中的所有N个元素中连续的两个元素进行两两比较，如果两者不满足升序关系则交换。第一轮后，最大数降下沉到列表最后\n",
    "- 第二轮比较：从第一个元素开始，对列表中前$N-1$个元素进行两两比较，使次大数沉到最后\n",
    "- 以此类推，$N-1$轮后，排序完毕"
   ]
  },
  {
   "cell_type": "code",
   "execution_count": 3,
   "metadata": {},
   "outputs": [
    {
     "name": "stdout",
     "output_type": "stream",
     "text": [
      "[5, 12, 35, 42, 77, 101]\n"
     ]
    }
   ],
   "source": [
    "a = [77, 42, 35, 12, 101, 5]\n",
    "\n",
    "for i in range(len(a) - 1):\n",
    "    for j in range(len(a) - i - 1):\n",
    "        if a[j] > a[j+1]:\n",
    "            a[j], a[j+1] = a[j+1], a[j]\n",
    "            \n",
    "print(a)"
   ]
  },
  {
   "cell_type": "markdown",
   "metadata": {
    "collapsed": true
   },
   "source": [
    "冒泡排序算法改进：\n",
    "- 如果在某一轮比较中，一次交换也没有执行过，就说明已经排好序了。"
   ]
  },
  {
   "cell_type": "code",
   "execution_count": 4,
   "metadata": {},
   "outputs": [
    {
     "name": "stdout",
     "output_type": "stream",
     "text": [
      "[5, 12, 35, 42, 77, 101]\n"
     ]
    }
   ],
   "source": [
    "a = [77, 42, 35, 12, 101, 5]\n",
    "\n",
    "for i in range(len(a) - 1):\n",
    "    flag = True       # 假设当前列表是排好序的\n",
    "    for j in range(len(a) - 1 - i):\n",
    "        if a[j] > a[j+1]:\n",
    "            a[j], a[j+1] = a[j+1], a[j]      # 如果发生交换，将flag立为False\n",
    "            flag = False\n",
    "    if flag == True:\n",
    "        break\n",
    "\n",
    "print(a)"
   ]
  },
  {
   "cell_type": "markdown",
   "metadata": {},
   "source": [
    "冒泡排序算法分析：\n",
    "- 算法主要的消耗时间是比较的次数\n",
    "- 冒泡排序共需比较$N-1$轮，总共的次数为：$(N-1)+(N-2)+...+2+1=N(N-1)/2$\n",
    "- 冒泡排序执行交换的次数不确定\n",
    "- 冒泡排序是一种效率很低的排序算法"
   ]
  },
  {
   "cell_type": "markdown",
   "metadata": {},
   "source": [
    "## 5.3 函数"
   ]
  },
  {
   "cell_type": "markdown",
   "metadata": {},
   "source": [
    "函数：\n",
    "- 函数用于在程序中分离不同的任务\n",
    "- 实现结构化程序设计\n",
    "- 减少程序复杂度\n",
    "- 实现代码的复用\n",
    "- 提高代码的质量\n",
    "- 协作开发\n",
    "- 实现特殊功能（递归）"
   ]
  },
  {
   "cell_type": "code",
   "execution_count": null,
   "metadata": {
    "collapsed": true
   },
   "outputs": [],
   "source": [
    "问题1:判断一个数是否是素数"
   ]
  },
  {
   "cell_type": "code",
   "execution_count": 11,
   "metadata": {},
   "outputs": [
    {
     "name": "stdout",
     "output_type": "stream",
     "text": [
      "Please enter a number: 35\n",
      "Not a prime number\n"
     ]
    }
   ],
   "source": [
    "n = int(input('Please enter a number: '))\n",
    "\n",
    "for i in range(2, n):\n",
    "    if n % i == 0:\n",
    "        print('Not a prime number')\n",
    "        break\n",
    "else:\n",
    "    print('%d is a prime number'%n)"
   ]
  },
  {
   "cell_type": "markdown",
   "metadata": {},
   "source": [
    "**注：上面代码中`else`是和`for`循环并列的，这样也是可以的**"
   ]
  },
  {
   "cell_type": "markdown",
   "metadata": {},
   "source": [
    "问题2：编写函数判定一个数是否是素数，并调用其输出200以内的素数"
   ]
  },
  {
   "cell_type": "code",
   "execution_count": 14,
   "metadata": {},
   "outputs": [
    {
     "name": "stdout",
     "output_type": "stream",
     "text": [
      "2,3,5,7,11,13,17,19,23,29,31,37,41,43,47,53,59,61,67,71,73,79,83,89,97,101,103,107,109,113,127,131,137,139,149,151,157,163,167,173,179,181,191,193,197,199,"
     ]
    }
   ],
   "source": [
    "def is_prime(a):\n",
    "    for i in range(2, a):      \n",
    "        if a % i == 0:\n",
    "            return False\n",
    "    else:\n",
    "        return True\n",
    "for j in range(2, 200):\n",
    "    if is_prime(j) == True:\n",
    "        print(j, end=',')"
   ]
  },
  {
   "cell_type": "markdown",
   "metadata": {},
   "source": [
    "上述代码可以用一个初等数学中的一个结论可以减少开方级的计算量：整数的因子，一个因子必定大于或等于整数的平方根，另一个因子必定小于或等于整数的平方根"
   ]
  },
  {
   "cell_type": "code",
   "execution_count": 16,
   "metadata": {},
   "outputs": [
    {
     "name": "stdout",
     "output_type": "stream",
     "text": [
      "2,3,5,7,11,13,17,19,23,29,31,37,41,43,47,53,59,61,67,71,73,79,83,89,97,101,103,107,109,113,127,131,137,139,149,151,157,163,167,173,179,181,191,193,197,199,"
     ]
    }
   ],
   "source": [
    "import math\n",
    "\n",
    "def is_prime(a):\n",
    "    m = int(math.sqrt(a))\n",
    "    for i in range(2, m+1):\n",
    "        if a % i == 0:\n",
    "            return False\n",
    "    else:\n",
    "        return True\n",
    "for i in range(2, 200):\n",
    "    if is_prime(i) == True:\n",
    "        print(i, end=',')"
   ]
  },
  {
   "cell_type": "markdown",
   "metadata": {},
   "source": [
    "问题3:将冒泡排序算法写成函数形式："
   ]
  },
  {
   "cell_type": "code",
   "execution_count": 18,
   "metadata": {},
   "outputs": [
    {
     "name": "stdout",
     "output_type": "stream",
     "text": [
      "[5, 12, 35, 42, 77, 101]\n"
     ]
    }
   ],
   "source": [
    "def bubble_sort(a):\n",
    "    for i in range(len(a)-1):\n",
    "        for j in range(len(a)-i-1):\n",
    "            if a[j] > a[j+1]:\n",
    "                a[j], a[j+1] = a[j+1], a[j]\n",
    "                \n",
    "a = [77, 42, 35, 12, 101, 5]\n",
    "bubble_sort(a)\n",
    "print(a)"
   ]
  },
  {
   "cell_type": "markdown",
   "metadata": {},
   "source": [
    "递归函数：自调用函数，在函数体内部直接或间接调用自己"
   ]
  },
  {
   "cell_type": "markdown",
   "metadata": {},
   "source": [
    "问题4:编写函数求$n$的阶乘"
   ]
  },
  {
   "cell_type": "code",
   "execution_count": 19,
   "metadata": {},
   "outputs": [
    {
     "data": {
      "text/plain": [
       "120"
      ]
     },
     "execution_count": 19,
     "metadata": {},
     "output_type": "execute_result"
    }
   ],
   "source": [
    "# 非递归方法\n",
    "def factorial(n):\n",
    "    s = 1\n",
    "    for i in range(1, n+1):\n",
    "        s = s * i\n",
    "    return s\n",
    "factorial(5)"
   ]
  },
  {
   "cell_type": "code",
   "execution_count": 21,
   "metadata": {},
   "outputs": [
    {
     "data": {
      "text/plain": [
       "120"
      ]
     },
     "execution_count": 21,
     "metadata": {},
     "output_type": "execute_result"
    }
   ],
   "source": [
    "# 递归方法\n",
    "def factorial(n):\n",
    "    if n == 1:\n",
    "        return 1\n",
    "    else:\n",
    "        s = n * factorial(n-1)          # n! = n*(n-1)!\n",
    "        return s\n",
    "\n",
    "factorial(5)"
   ]
  },
  {
   "cell_type": "markdown",
   "metadata": {},
   "source": [
    "## 5.4 归并排序"
   ]
  },
  {
   "cell_type": "markdown",
   "metadata": {},
   "source": [
    "归并排序：\n",
    "- 将包含$N$个元素的列表拆分成两个含$N/2$个元素的字列表\n",
    "- 对两个子列表递归调用归并排序（最后可以将整个列表分解为$N$个子列表）\n",
    "- 合并两个已排好序的列表"
   ]
  },
  {
   "cell_type": "markdown",
   "metadata": {
    "collapsed": true
   },
   "source": [
    "归并排序算法实现："
   ]
  },
  {
   "cell_type": "code",
   "execution_count": 3,
   "metadata": {},
   "outputs": [],
   "source": [
    "def merge(left, right):        # 合并两个子列表(两个已经排好序的子列表)\n",
    "    merged = []\n",
    "    i, j = 0, 0                     # i和j分别是left和right的下标\n",
    "    \n",
    "    # len_left, len_right = len(left), len(right)\n",
    "    while i < len(left) and j < len(right):\n",
    "        if left[i] <= right[j]:\n",
    "            merged.append(left[i])\n",
    "            i += 1\n",
    "        else:\n",
    "            merged.append(right[j])\n",
    "            j += 1\n",
    "            \n",
    "    merged.extend(left[i:])        # 归并左子列表剩余元素\n",
    "    merged.extend(right[j:])      # 归并右子列表剩余元素\n",
    "    print(left, right, merged)\n",
    "    return merged"
   ]
  },
  {
   "cell_type": "code",
   "execution_count": 5,
   "metadata": {},
   "outputs": [
    {
     "name": "stdout",
     "output_type": "stream",
     "text": [
      "[98] [23] [23, 98]\n",
      "[45] [14] [14, 45]\n",
      "[23, 98] [14, 45] [14, 23, 45, 98]\n",
      "[6] [67] [6, 67]\n",
      "[33] [42] [33, 42]\n",
      "[6, 67] [33, 42] [6, 33, 42, 67]\n",
      "[14, 23, 45, 98] [6, 33, 42, 67] [6, 14, 23, 33, 42, 45, 67, 98]\n",
      "[6, 14, 23, 33, 42, 45, 67, 98]\n"
     ]
    }
   ],
   "source": [
    "def mergeSort(a):        # 归并排序\n",
    "    if len(a) <= 1:          # 空或者只有一个元素，直接返回列表\n",
    "        return a\n",
    "    mid = len(a) // 2\n",
    "    left = mergeSort(a[:mid])\n",
    "    right = mergeSort(a[mid:])\n",
    "    return merge(left, right)\n",
    "\n",
    "a = [98, 23, 45, 14, 6, 67, 33, 42]\n",
    "a1 = mergeSort(a)\n",
    "print(a1)"
   ]
  },
  {
   "cell_type": "markdown",
   "metadata": {},
   "source": [
    "归并排序算法的分析：\n",
    "- 归并排序需要将列表一步步拆分成子列表，共$log_{2}N$步\n",
    "- 每一步都相当于需要合并$N$个元素的有序列表，最大比较次数是$N$次\n",
    "- 归并排序需要至多$Nlog_{2}N$次比较\n",
    "- 归并排序要比冒泡排序和选择排序快的多"
   ]
  },
  {
   "cell_type": "markdown",
   "metadata": {},
   "source": [
    "Python语言系统提供的排序算法：底层采用了一种归并排序算法实现\n",
    "- Python的列表类型提供`sort()`方法"
   ]
  },
  {
   "cell_type": "code",
   "execution_count": 6,
   "metadata": {},
   "outputs": [
    {
     "name": "stdout",
     "output_type": "stream",
     "text": [
      "[6, 14, 23, 33, 42, 45, 67, 98]\n"
     ]
    }
   ],
   "source": [
    "a = [98, 23, 45, 14, 6, 67, 33, 42]\n",
    "a.sort()      # 默认升序排序\n",
    "print(a)"
   ]
  },
  {
   "cell_type": "code",
   "execution_count": 7,
   "metadata": {},
   "outputs": [
    {
     "name": "stdout",
     "output_type": "stream",
     "text": [
      "[98, 67, 45, 42, 33, 23, 14, 6]\n"
     ]
    }
   ],
   "source": [
    "a = [98, 23, 45, 14, 6, 67, 33, 42]\n",
    "a.sort(reverse=True)       # 降序排序\n",
    "print(a)"
   ]
  },
  {
   "cell_type": "markdown",
   "metadata": {},
   "source": [
    "- Python的内置函数`sorted`"
   ]
  },
  {
   "cell_type": "code",
   "execution_count": 8,
   "metadata": {},
   "outputs": [
    {
     "name": "stdout",
     "output_type": "stream",
     "text": [
      "[98, 23, 45, 14, 6, 67, 33, 42]\n",
      "[6, 14, 23, 33, 42, 45, 67, 98]\n"
     ]
    }
   ],
   "source": [
    "a = [98, 23, 45, 14, 6, 67, 33, 42]\n",
    "b = sorted(a)             # 降序采用sorted(a, reverse=True)\n",
    "print(a)\n",
    "print(b)"
   ]
  }
 ],
 "metadata": {
  "kernelspec": {
   "display_name": "Python 3",
   "language": "python",
   "name": "python3"
  },
  "language_info": {
   "codemirror_mode": {
    "name": "ipython",
    "version": 3
   },
   "file_extension": ".py",
   "mimetype": "text/x-python",
   "name": "python",
   "nbconvert_exporter": "python",
   "pygments_lexer": "ipython3",
   "version": "3.6.5"
  }
 },
 "nbformat": 4,
 "nbformat_minor": 2
}
