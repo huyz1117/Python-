{
 "cells": [
  {
   "cell_type": "markdown",
   "metadata": {},
   "source": [
    "# 6.1 线性数据结构\n",
    "- 线性数据结构是计算机组织数据的一种方式\n",
    "- 线性结构是一个数据元素的集合\n",
    "    - 有一个唯一的首元素\n",
    "    - 有一个唯一的尾元素\n",
    "    - 除了首元素和尾元素，所有元素都有一个 唯一的前驱\n",
    "    - 除了首元素和尾元素，所有元素都有一个唯一的后继"
   ]
  },
  {
   "cell_type": "markdown",
   "metadata": {},
   "source": [
    "常见的线性数据结构：数组、栈、队列、链表"
   ]
  },
  {
   "cell_type": "markdown",
   "metadata": {},
   "source": [
    "## 数组"
   ]
  },
  {
   "cell_type": "markdown",
   "metadata": {},
   "source": [
    "- Python语言没有提供数组数据类型通常直接使用列表作为数组\n",
    "- 列表支持数据要求的集中核心操作\n",
    "    - 创建数组\n",
    "    - 索引访问\n",
    "    - 索引赋值\n",
    "    - 迭代遍历"
   ]
  },
  {
   "cell_type": "markdown",
   "metadata": {},
   "source": [
    "## 栈"
   ]
  },
  {
   "cell_type": "markdown",
   "metadata": {},
   "source": [
    "- 栈（Stack）是一种特殊的列表\n",
    "    - 栈内的元素只能通过列表的一端访问（栈顶）\n",
    "    - 栈是后进先出的数据结构\n",
    "- 栈的核心操作\n",
    "    - 入栈（Push）\n",
    "    - 出栈（Pop）"
   ]
  },
  {
   "cell_type": "markdown",
   "metadata": {},
   "source": [
    "栈的实现：列表\n",
    "- 列表从最后的位置添加和移除数据都非常的高效方便，可天然的快速的实现栈的操作\n",
    "    - 列表的append方法对应于入栈操作（push）\n",
    "    - 列表的pop方法对应于出栈操作（pop）"
   ]
  },
  {
   "cell_type": "code",
   "execution_count": 1,
   "metadata": {},
   "outputs": [
    {
     "name": "stdout",
     "output_type": "stream",
     "text": [
      "[1, 2]\n",
      "[1]\n",
      "[]\n"
     ]
    }
   ],
   "source": [
    "s = []\n",
    "s.append(1)\n",
    "s.append(2)\n",
    "print(s)         # 输出[1, 2]\n",
    "s.pop()       \n",
    "print(s)      # 输出[1]，后进先出\n",
    "s.pop()\n",
    "print(s)    # 输出[]"
   ]
  },
  {
   "cell_type": "markdown",
   "metadata": {},
   "source": [
    "## 队列\n",
    "- 队列（Queue）也是一种特殊的列表\n",
    "    - 队列插入元素的操作只能在队尾进行\n",
    "    - 队列删除元素的才做只能在队首进行\n",
    "    - 队列是先进先出的数据结构\n",
    "- 队列的核心操作\n",
    "    - 尾部添加\n",
    "    - 首部删除"
   ]
  },
  {
   "cell_type": "markdown",
   "metadata": {},
   "source": [
    "队列的实现：deque\n",
    "- 队列用列表实现并不适合（在首部添加数据只能使用insert方法需要移动其他的数据）\n",
    "- collections.deque是Python提供的双端队列，支持从任意一端添加删除数据，速度快\n",
    "- deque支持的方法：\n",
    "    - append(x)           尾部添加元素\n",
    "    - appendleft(x)      首部添加元素\n",
    "    - pop(x)                尾部弹出元素\n",
    "    - popleft(x)           首部弹出元素\n",
    "    - clear                  清空队列\n",
    "    - reverse()            反转队列"
   ]
  },
  {
   "cell_type": "markdown",
   "metadata": {},
   "source": [
    "队列的实现"
   ]
  },
  {
   "cell_type": "code",
   "execution_count": 2,
   "metadata": {},
   "outputs": [
    {
     "name": "stdout",
     "output_type": "stream",
     "text": [
      "deque([1, 2])\n",
      "deque([2])\n",
      "deque([])\n"
     ]
    }
   ],
   "source": [
    "from collections import deque\n",
    "dq = deque()\n",
    "dq.append(1)\n",
    "dq.append(2)\n",
    "print(dq)                # 输出[1, 2]\n",
    "dq.popleft()\n",
    "print(dq)                # 输出[2]\n",
    "dq.popleft()\n",
    "print(dq)                # 输出[]"
   ]
  },
  {
   "cell_type": "markdown",
   "metadata": {},
   "source": [
    "# 6.2 树的概念"
   ]
  },
  {
   "cell_type": "markdown",
   "metadata": {},
   "source": [
    "树\n",
    "- 树不是一种线性结构，是非线性\n",
    "- 树在计算机科学中应用广泛，包括操作系统、图形学、数据库和计算机网络等\n",
    "- 树和真正的树有许多相似的地方，也包括根、树枝和叶子，他们的不同在于计算机中的树的根在顶层而叶子在底部"
   ]
  },
  {
   "cell_type": "markdown",
   "metadata": {},
   "source": [
    "树的术语：\n",
    "- 节点（Node）\n",
    "    - 树中的每一个数据元素称为一个节点，节点是树的基本构成部分\n",
    "- 边（Edge）\n",
    "    - 边也是树的基本构成部分。边有方向，连接两个节点，并表示他们之间的联系\n",
    "    - 除了根节点外每个节点有且只有一条与其他节点相连的入边（指向该节点的边），每个节点可能有许多条出边（从该节点指向其他节点的边）\n",
    "- 根节点（Root）\n",
    "    - 根节点是树中唯一一个没有入边的节点\n",
    "- 路径（Path）\n",
    "    - 路径是由边连接起来的节点的有序排列\n",
    "- 子节点集（Children）\n",
    "    - 当一个节点的入边来自另一个节点时，称前者为后者的子节点，同一个节点的所有子节点构成子节点集\n",
    "- 父节点\n",
    "     - 一个节点是它出边所连接的所有节点的父节点\n",
    "- 兄弟节点\n",
    "     - 同一个节点的所有子节点互为兄弟节点\n",
    "- 子树（Subtree）\n",
    "    - 子树是一个父节点的某个子节点的所有边和后代节点构成的集合\n",
    "- 叶节点（Leaf Node）\n",
    "     - 没有子节点的节点称为叶节点\n",
    "- 层数（Level）\n",
    "    - 一个节点的层数是指从根节点到该节点的路径中的边的数目\n",
    "- 高度（Height）\n",
    "    - 树的高度等于所有节点的层数的最大值"
   ]
  },
  {
   "cell_type": "markdown",
   "metadata": {},
   "source": [
    "树的定义\n",
    "- 树是节点和连接节点的边的集合，它有以下特征：\n",
    "    - 有一个节点被设计为根节点\n",
    "    - 除了根节点，每一个节点都通过一条边与它唯一的父节点相连\n",
    "    - 可以沿唯一的路径从根节点到每一个节点\n",
    "    - 如果每个节点都至多有两个子节点，称之为二叉树"
   ]
  },
  {
   "cell_type": "markdown",
   "metadata": {},
   "source": [
    "## 6.3 二叉树"
   ]
  },
  {
   "cell_type": "markdown",
   "metadata": {},
   "source": [
    "二叉树的定义\n",
    "- 二叉树是由$n$($n\\geq0$)个节点组成的有限集合、每个节点最多有两个子树的有序树。它或者是空集，或者是由一根和称为左、右子树的两个不相交的二叉树组成\n",
    "- 节点的度和二叉树的度\n",
    "    - 每个节点具有子树的个数称为节点的度，树中所有节点的度的最大值称为树的度\n",
    "- 二叉树的度为2"
   ]
  },
  {
   "cell_type": "markdown",
   "metadata": {},
   "source": [
    "二叉树的特点\n",
    "- 二叉树是有序树，即使只有一个子树，也必须区分左、右子树\n",
    "- 二叉树每个节点的度不能大于2，只能取0， 1， 2三者之一\n",
    "- 二叉树中所有节点的形态由5种：空节点、无左右子树的节点、只有左子树的节点、只有右子树的节点和具有左右子树的节点"
   ]
  },
  {
   "cell_type": "markdown",
   "metadata": {},
   "source": [
    "二叉树的性质\n",
    "- 二叉树的地$i$层至多有$2^{i-1}$个节点\n",
    "- 对任何一棵二叉树$T$，如果其叶子节点树为$N_0$，度为2的节点为$N_2$，则$N_{0}=N_{2}+1$\n",
    "- (推导)假设度为1的节点树为$N_1$，总节点树$N_{0}+N_{1}+N_{2}$，度为2的节点出边为2，度为1的节点的出边为1，则这颗树边的数目为$N_{2}\\times 2+N_{1}$，等于$N-1$，两个式子相减即可\n",
    "- 满二叉树：当树中每一层都满时，则称此树为满二叉树\n",
    "- 完全二叉树：在一棵二叉树中，除最后一层外，其余层都是满的，并且最后一层或者是满的，或者是右边缺少连续若干节点，则称此树为完全二叉树\n",
    "- 满二叉树是完全二叉树的特例\n",
    "- 深度为$h$的满二叉树的节点树为$2^{h}-1$"
   ]
  },
  {
   "cell_type": "markdown",
   "metadata": {},
   "source": [
    "二叉树的遍历\n",
    "- 按照一定的次序访问树中的所有节点，并且每个节点的值仅被访问一次的过程\n",
    "- 可能的三种遍历次序：\n",
    "    - 先序遍历\n",
    "    - 中序遍历\n",
    "    - 后序遍历"
   ]
  }
 ],
 "metadata": {
  "kernelspec": {
   "display_name": "Python 3",
   "language": "python",
   "name": "python3"
  },
  "language_info": {
   "codemirror_mode": {
    "name": "ipython",
    "version": 3
   },
   "file_extension": ".py",
   "mimetype": "text/x-python",
   "name": "python",
   "nbconvert_exporter": "python",
   "pygments_lexer": "ipython3",
   "version": "3.6.5"
  }
 },
 "nbformat": 4,
 "nbformat_minor": 2
}
