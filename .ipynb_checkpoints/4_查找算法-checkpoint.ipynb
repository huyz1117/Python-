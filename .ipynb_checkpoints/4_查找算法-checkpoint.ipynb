{
 "cells": [
  {
   "cell_type": "markdown",
   "metadata": {},
   "source": [
    "# 4.2顺序查找"
   ]
  },
  {
   "cell_type": "code",
   "execution_count": 16,
   "metadata": {},
   "outputs": [
    {
     "name": "stdout",
     "output_type": "stream",
     "text": [
      "请输入要查找的数：5\n",
      "找到了,5在列表中\n"
     ]
    }
   ],
   "source": [
    "aList = [1, 3, 5, 7, 9, 2, 4, 6, 8, 10]\n",
    "\n",
    "x = int(input('请输入要查找的数：'))\n",
    "for i in aList:\n",
    "    if i == x:\n",
    "        print('找到了,%d在列表中'%x)"
   ]
  },
  {
   "cell_type": "markdown",
   "metadata": {},
   "source": [
    "另一种以下标的方式查找："
   ]
  },
  {
   "cell_type": "code",
   "execution_count": 17,
   "metadata": {},
   "outputs": [
    {
     "name": "stdout",
     "output_type": "stream",
     "text": [
      "请输入要查找的数：3\n",
      "找到了，3在列表中，在第2个位置\n"
     ]
    }
   ],
   "source": [
    "aList = [1, 3, 5, 7, 9, 2, 4, 6, 8, 10]\n",
    "\n",
    "x = int(input('请输入要查找的数：'))\n",
    "for i in range(len(aList)):\n",
    "    if aList[i] == x:\n",
    "        print('找到了，%d在列表中，在第%s个位置'%(x, i+1))"
   ]
  },
  {
   "cell_type": "markdown",
   "metadata": {},
   "source": [
    "完整程序，处理**没找到**的情况："
   ]
  },
  {
   "cell_type": "code",
   "execution_count": 3,
   "metadata": {},
   "outputs": [
    {
     "name": "stdout",
     "output_type": "stream",
     "text": [
      "请输入要查找的数：0\n",
      "没找到，0不在列表中\n"
     ]
    }
   ],
   "source": [
    "aList = [1, 3, 5, 7, 9, 2, 4, 6, 8, 10]\n",
    "\n",
    "x = int(input('请输入要查找的数：'))\n",
    "sign = False      # 设置找到的标志\n",
    "for i in range(len(aList)):\n",
    "    if aList == x:\n",
    "        print('找到了，第%d个数是%d'%(i+1, x))\n",
    "        sign = True    # 只要找到就为True\n",
    "        \n",
    "if sign == False:     # 没找到就为True\n",
    "    print('没找到，%d不在列表中'%x)"
   ]
  },
  {
   "cell_type": "markdown",
   "metadata": {},
   "source": [
    "实际上在Python语言中，提供了相应的函数和关键字能够进行数据查找，比如**``in``**关键字"
   ]
  },
  {
   "cell_type": "code",
   "execution_count": 4,
   "metadata": {},
   "outputs": [
    {
     "data": {
      "text/plain": [
       "True"
      ]
     },
     "execution_count": 4,
     "metadata": {},
     "output_type": "execute_result"
    }
   ],
   "source": [
    "5 in aList"
   ]
  },
  {
   "cell_type": "code",
   "execution_count": 5,
   "metadata": {},
   "outputs": [
    {
     "data": {
      "text/plain": [
       "False"
      ]
     },
     "execution_count": 5,
     "metadata": {},
     "output_type": "execute_result"
    }
   ],
   "source": [
    "18 in aList"
   ]
  },
  {
   "cell_type": "markdown",
   "metadata": {},
   "source": [
    "还有**``index``**函数："
   ]
  },
  {
   "cell_type": "code",
   "execution_count": 6,
   "metadata": {},
   "outputs": [
    {
     "data": {
      "text/plain": [
       "1"
      ]
     },
     "execution_count": 6,
     "metadata": {},
     "output_type": "execute_result"
    }
   ],
   "source": [
    "aList = [1, 3, 5, 7, 3, 2, 4, 6]\n",
    "\n",
    "aList.index(3)    # 返回第一个数值3的下标"
   ]
  },
  {
   "cell_type": "code",
   "execution_count": 7,
   "metadata": {},
   "outputs": [
    {
     "data": {
      "text/plain": [
       "4"
      ]
     },
     "execution_count": 7,
     "metadata": {},
     "output_type": "execute_result"
    }
   ],
   "source": [
    "aList.index(3, 2, 6)    # 返回从下标2开始到下标6-1之间的第一个数据3的下标"
   ]
  },
  {
   "cell_type": "markdown",
   "metadata": {},
   "source": [
    "**``count``**函数："
   ]
  },
  {
   "cell_type": "code",
   "execution_count": 8,
   "metadata": {},
   "outputs": [
    {
     "data": {
      "text/plain": [
       "2"
      ]
     },
     "execution_count": 8,
     "metadata": {},
     "output_type": "execute_result"
    }
   ],
   "source": [
    "aList.count(3)     # 返回数据3的个数"
   ]
  },
  {
   "cell_type": "code",
   "execution_count": 9,
   "metadata": {},
   "outputs": [
    {
     "data": {
      "text/plain": [
       "0"
      ]
     },
     "execution_count": 9,
     "metadata": {},
     "output_type": "execute_result"
    }
   ],
   "source": [
    "aList.count(0)"
   ]
  },
  {
   "cell_type": "markdown",
   "metadata": {},
   "source": [
    "输出待查找数据的所在位置值（有重复值）："
   ]
  },
  {
   "cell_type": "code",
   "execution_count": 10,
   "metadata": {},
   "outputs": [
    {
     "name": "stdout",
     "output_type": "stream",
     "text": [
      "请输入要查找的书：2\n",
      "找到了，2在列表中，在第2个位置\n",
      "找到了，2在列表中，在第3个位置\n"
     ]
    }
   ],
   "source": [
    "aList = [1, 2, 2, 3, 3, 3, 4, 4, 5]\n",
    "\n",
    "sign = False\n",
    "x = int(input('请输入要查找的书：'))\n",
    "for i in range(len(aList)):\n",
    "    if aList[i] == x:\n",
    "        print('找到了，%d在列表中，在第%d个位置'%(x, i+1))\n",
    "        sign = True\n",
    "        \n",
    "if sign == False:\n",
    "    print('%d不再列表中'%x)"
   ]
  },
  {
   "cell_type": "markdown",
   "metadata": {},
   "source": [
    "使用Python函数完成："
   ]
  },
  {
   "cell_type": "code",
   "execution_count": 11,
   "metadata": {},
   "outputs": [
    {
     "name": "stdout",
     "output_type": "stream",
     "text": [
      "请输入要查找的数：2\n",
      "找到了，2在第2个位置\n",
      "找到了，2在第3个位置\n"
     ]
    }
   ],
   "source": [
    "aList = [1, 2, 2, 3, 3, 3, 4, 4, 5]\n",
    "\n",
    "x = int(input('请输入要查找的数：'))\n",
    "n = aList.count(x)\n",
    "if n == 0:\n",
    "    print('没找到，%d不在列表中'%x)\n",
    "else:\n",
    "    j = 0  \n",
    "    for i in range(n):\n",
    "        j = aList.index(x, j, len(aList)) + 1     # j指定从哪开始找，即下一次开始查的位置\n",
    "        print('找到了，%d在第%d个位置'%(x, j))"
   ]
  },
  {
   "cell_type": "markdown",
   "metadata": {},
   "source": [
    "# 4.3二分查找"
   ]
  },
  {
   "cell_type": "markdown",
   "metadata": {},
   "source": [
    "前提条件：列表是有序的"
   ]
  },
  {
   "cell_type": "code",
   "execution_count": 12,
   "metadata": {},
   "outputs": [
    {
     "name": "stdout",
     "output_type": "stream",
     "text": [
      "请输入要查找的数：19\n",
      "找到了，第10个数是19\n"
     ]
    }
   ],
   "source": [
    "aList = [1, 3, 5, 7, 9, 11, 13, 15, 17, 19]\n",
    "\n",
    "x = int(input('请输入要查找的数：'))\n",
    "start = 0\n",
    "end = len(aList) - 1\n",
    "while start <= end:\n",
    "    mid = (end + start) // 2\n",
    "    if aList[mid] == x:\n",
    "        break\n",
    "    elif x < aList[mid]:\n",
    "        end = mid - 1\n",
    "    else:\n",
    "        start = mid + 1\n",
    "if start <= end:\n",
    "    print('找到了，第%d个数是%d'%(mid+1, x))\n",
    "else:\n",
    "    print('没找到，%d不在列表中'%x)"
   ]
  },
  {
   "cell_type": "markdown",
   "metadata": {},
   "source": [
    "# 4.4 添加数据"
   ]
  },
  {
   "cell_type": "markdown",
   "metadata": {},
   "source": [
    "约定-1代表空白，起到占位符的作用"
   ]
  },
  {
   "cell_type": "markdown",
   "metadata": {},
   "source": [
    "向aList=[1, 3, 5, 7, 9, 2, 4, -1, -1, -1]添加数字8，添加到有效数字后面。一种思路是从头往后看，碰到-1就把8放到该位置上"
   ]
  },
  {
   "cell_type": "markdown",
   "metadata": {},
   "source": [
    "上述方法代价比较大，第二种方法从后往前看，看第一个位置是否是空，是空继续往前看，直到看到是有效数字，将数字插入到有效数字后面"
   ]
  },
  {
   "cell_type": "code",
   "execution_count": 8,
   "metadata": {},
   "outputs": [
    {
     "name": "stdout",
     "output_type": "stream",
     "text": [
      "请输入要插入的数字: 8\n",
      "1 3 5 7 9 2 4 8 "
     ]
    }
   ],
   "source": [
    "aList = [1, 3, 5, 7, 9, 2, 4, -1, -1, -1]\n",
    "x = int(input('请输入要插入的数字: '))\n",
    "\n",
    "i = len(aList) - 1\n",
    "while i > 0:\n",
    "    if aList[i] != -1:\n",
    "        break\n",
    "    i = i - 1\n",
    "    \n",
    "aList[i+1] = x\n",
    "for j in aList:\n",
    "    if j != -1:\n",
    "        print(j, end=' ')"
   ]
  },
  {
   "cell_type": "markdown",
   "metadata": {},
   "source": [
    "问题2:插入数据之后保证列表还是有序的：向aList=[1, 3, 5, 7, 9, 12, -1, -1, -1]插入数字8"
   ]
  },
  {
   "cell_type": "code",
   "execution_count": 11,
   "metadata": {},
   "outputs": [
    {
     "name": "stdout",
     "output_type": "stream",
     "text": [
      "请输入要插入的数字：8\n",
      "1 3 5 7 8 9 12 "
     ]
    }
   ],
   "source": [
    "aList = [1, 3, 5, 7, 9, 12, -1, -1, -1]\n",
    "x = int(input('请输入要插入的数字：'))\n",
    "\n",
    "i = len(aList) - 1\n",
    "while i > 0:\n",
    "    if aList[i] != -1 and x < aList[i]:\n",
    "        aList[i+1] = aList[i]\n",
    "    elif aList[i] != -1 and x > aList[i]:\n",
    "        aList[i+1] = x\n",
    "        break\n",
    "    i = i - 1\n",
    "for j in aList:\n",
    "    if j != -1:\n",
    "        print(j, end=' ')"
   ]
  },
  {
   "cell_type": "markdown",
   "metadata": {},
   "source": [
    "给的程序："
   ]
  },
  {
   "cell_type": "markdown",
   "metadata": {},
   "source": [
    "思路：从后往前看，碰到-1不做任何处理，碰到比待插入的数字大，将该数字往后移一位，直到碰到比待插入的数字小的数字"
   ]
  },
  {
   "cell_type": "code",
   "execution_count": 13,
   "metadata": {},
   "outputs": [
    {
     "name": "stdout",
     "output_type": "stream",
     "text": [
      "请输入待插入的数字：8\n",
      "1 3 5 7 8 9 12 "
     ]
    }
   ],
   "source": [
    "aList = [1, 3, 5, 7, 9, 12, -1, -1, -1]\n",
    "x = int(input('请输入待插入的数字：'))\n",
    "\n",
    "i = len(aList) - 1\n",
    "while i > 0:\n",
    "    if aList[i] == -1:\n",
    "        pass\n",
    "    elif aList[i] > x:\n",
    "        aList[i+1] = aList[i]\n",
    "    else:\n",
    "        break\n",
    "    i = i -1\n",
    "aList[i+1] = x\n",
    "\n",
    "for j in aList:\n",
    "    if j != -1:\n",
    "        print(j, end=' ')"
   ]
  },
  {
   "cell_type": "markdown",
   "metadata": {},
   "source": [
    "Python本身也提供了一些添加函数：append, extend, insert"
   ]
  },
  {
   "cell_type": "markdown",
   "metadata": {},
   "source": [
    "append会添加列表的末尾，就不说了；extend能添加一批数："
   ]
  },
  {
   "cell_type": "code",
   "execution_count": 14,
   "metadata": {},
   "outputs": [
    {
     "name": "stdout",
     "output_type": "stream",
     "text": [
      "[1, 2, 3, 4, 5, 23, 24, 45]\n"
     ]
    }
   ],
   "source": [
    "aList = [1, 2, 3, 4, 5]\n",
    "aList.extend([23, 24, 45])\n",
    "print(aList)"
   ]
  },
  {
   "cell_type": "markdown",
   "metadata": {},
   "source": [
    "`insert`:在原来列表的某个位置插入数字："
   ]
  },
  {
   "cell_type": "code",
   "execution_count": 15,
   "metadata": {},
   "outputs": [
    {
     "name": "stdout",
     "output_type": "stream",
     "text": [
      "请输入一个整数：8\n",
      "[1, 8, 3, 5, 7, 9]\n"
     ]
    }
   ],
   "source": [
    "aList = [1, 3, 5, 7, 9]\n",
    "x = int(input('请输入一个整数：'))\n",
    "aList.insert(1, x)\n",
    "print(aList)"
   ]
  },
  {
   "cell_type": "markdown",
   "metadata": {},
   "source": [
    "# 4.5 删除数据"
   ]
  },
  {
   "cell_type": "markdown",
   "metadata": {
    "collapsed": true
   },
   "source": [
    "删除列表aList=[1, 3, 5, 7, 9]中的5，后面的数依次往前移，空出来的最后一个位置填-1"
   ]
  },
  {
   "cell_type": "code",
   "execution_count": 3,
   "metadata": {},
   "outputs": [
    {
     "name": "stdout",
     "output_type": "stream",
     "text": [
      "请输入要删除的数：5\n",
      "[1, 3, 7, 9, -1]\n"
     ]
    }
   ],
   "source": [
    "aList = [1, 3, 5, 7, 9]\n",
    "x = int(input('请输入要删除的数：'))\n",
    "n = len(aList)\n",
    "\n",
    "for i in range(n):\n",
    "    if aList[i] == x:\n",
    "        break\n",
    "for j in range(i, n-1):\n",
    "    aList[j] = aList[j+1]\n",
    "\n",
    "aList[n-1] = -1\n",
    "print(aList)"
   ]
  },
  {
   "cell_type": "markdown",
   "metadata": {},
   "source": [
    "如果要删除的数不在列表中，如果要删除的数有多个，要怎么处理："
   ]
  },
  {
   "cell_type": "code",
   "execution_count": 4,
   "metadata": {},
   "outputs": [
    {
     "name": "stdout",
     "output_type": "stream",
     "text": [
      "请输入要删除的数：5\n",
      "[1, 3, -1, -1, 7, 7, 9, 10]\n"
     ]
    }
   ],
   "source": [
    "aList = [1, 3, 5, 5, 7, 7, 9, 10]\n",
    "x = int(input('请输入要删除的数：'))\n",
    "\n",
    "n = len(aList)\n",
    "for i in range(n):\n",
    "    if aList[i] == x:\n",
    "        aList[i] = -1\n",
    "print(aList)"
   ]
  },
  {
   "cell_type": "markdown",
   "metadata": {},
   "source": [
    "同样在Python中，也提供一些删除的函数：pop, remove"
   ]
  },
  {
   "cell_type": "markdown",
   "metadata": {},
   "source": [
    "1.不给`pop`传参数，会默认删除最后一个元素："
   ]
  },
  {
   "cell_type": "code",
   "execution_count": 6,
   "metadata": {},
   "outputs": [
    {
     "name": "stdout",
     "output_type": "stream",
     "text": [
      "[1, 2, 3, 4]\n"
     ]
    }
   ],
   "source": [
    "aList = [1, 2, 3, 4, 5]\n",
    "aList.pop()\n",
    "print(aList)"
   ]
  },
  {
   "cell_type": "markdown",
   "metadata": {},
   "source": [
    "2.给`pop`传参数，会删除置顶位置的元素："
   ]
  },
  {
   "cell_type": "code",
   "execution_count": 7,
   "metadata": {},
   "outputs": [
    {
     "name": "stdout",
     "output_type": "stream",
     "text": [
      "[1, 2, 4, 5, 6, 7]\n"
     ]
    }
   ],
   "source": [
    "aList = [1, 2, 3,4 ,5 ,6, 7]\n",
    "aList.pop(2)\n",
    "print(aList)"
   ]
  },
  {
   "cell_type": "markdown",
   "metadata": {},
   "source": [
    "`remove`删除第一个符合要求的数据"
   ]
  },
  {
   "cell_type": "code",
   "execution_count": 8,
   "metadata": {},
   "outputs": [
    {
     "name": "stdout",
     "output_type": "stream",
     "text": [
      "[1, 3, 5, 7, 2, 4, 6, 8, 10]\n"
     ]
    }
   ],
   "source": [
    "aList = [1, 3, 5, 7, 9, 2, 4, 6, 8, 10]\n",
    "aList.remove(9)\n",
    "print(aList)"
   ]
  },
  {
   "cell_type": "markdown",
   "metadata": {},
   "source": [
    "删除列表中所有重复的数据："
   ]
  },
  {
   "cell_type": "code",
   "execution_count": 12,
   "metadata": {},
   "outputs": [
    {
     "name": "stdout",
     "output_type": "stream",
     "text": [
      "请输入要删除的数：5\n",
      "[1, 2, 3, 4, 4, 6]\n"
     ]
    }
   ],
   "source": [
    "aList = [1, 2, 3, 4, 4, 5, 6, 5, 5]\n",
    "x = int(input('请输入要删除的数：'))\n",
    "\n",
    "n = aList.count(x)\n",
    "if n != 0:\n",
    "    for i in range(n):\n",
    "        aList.remove(x)\n",
    "print(aList)"
   ]
  }
 ],
 "metadata": {
  "kernelspec": {
   "display_name": "Python 3",
   "language": "python",
   "name": "python3"
  },
  "language_info": {
   "codemirror_mode": {
    "name": "ipython",
    "version": 3
   },
   "file_extension": ".py",
   "mimetype": "text/x-python",
   "name": "python",
   "nbconvert_exporter": "python",
   "pygments_lexer": "ipython3",
   "version": "3.6.8"
  }
 },
 "nbformat": 4,
 "nbformat_minor": 2
}
